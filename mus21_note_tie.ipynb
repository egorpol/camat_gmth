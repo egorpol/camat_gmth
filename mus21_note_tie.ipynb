{
 "cells": [
  {
   "cell_type": "code",
   "execution_count": 1,
   "id": "d668cb58-348e-40a5-b6c4-2e7e3a4d607a",
   "metadata": {},
   "outputs": [
    {
     "name": "stdout",
     "output_type": "stream",
     "text": [
      "Note: A-4, Duration: 1.0, Tie: no tie\n",
      "Note: C5, Duration: 1.0, Tie: no tie\n",
      "Note: E-5, Duration: 1.0, Tie: start\n",
      "Note: A-5, Duration: 1.0, Tie: no tie\n",
      "Note: G4, Duration: 1.0, Tie: no tie\n",
      "Note: B-4, Duration: 1.0, Tie: no tie\n",
      "Note: E-5, Duration: 1.0, Tie: stop\n",
      "Note: G5, Duration: 1.0, Tie: no tie\n",
      "Rest, Duration: 2.0\n",
      "Note: C3, Duration: 1.0, Tie: no tie\n",
      "Note: A-3, Duration: 1.0, Tie: no tie\n",
      "Note: E-4, Duration: 1.0, Tie: start\n",
      "Note: E-3, Duration: 1.0, Tie: no tie\n",
      "Note: G3, Duration: 1.0, Tie: no tie\n",
      "Note: E-4, Duration: 1.0, Tie: stop\n",
      "Rest, Duration: 2.0\n"
     ]
    }
   ],
   "source": [
    "from music21 import converter\n",
    "\n",
    "def process_chords_and_ties(file_path):\n",
    "    score = converter.parse(file_path)\n",
    "    \n",
    "    for element in score.recurse():\n",
    "        if 'Chord' in element.classes:\n",
    "            # Process each note in the chord\n",
    "            for note in element.notes:\n",
    "                tie_status = note.tie.type if note.tie else \"no tie\"\n",
    "                print(f\"Note: {note.pitch}, Duration: {note.duration.quarterLength}, Tie: {tie_status}\")\n",
    "        elif 'Note' in element.classes:\n",
    "            tie_status = element.tie.type if element.tie else \"no tie\"\n",
    "            print(f\"Note: {element.pitch}, Duration: {element.duration.quarterLength}, Tie: {tie_status}\")\n",
    "        elif 'Rest' in element.classes:\n",
    "            print(f\"Rest, Duration: {element.duration.quarterLength}\")\n",
    "\n",
    "file_path = 'liszt.mxl'\n",
    "process_chords_and_ties(file_path)"
   ]
  }
 ],
 "metadata": {
  "kernelspec": {
   "display_name": "Python 3 (ipykernel)",
   "language": "python",
   "name": "python3"
  },
  "language_info": {
   "codemirror_mode": {
    "name": "ipython",
    "version": 3
   },
   "file_extension": ".py",
   "mimetype": "text/x-python",
   "name": "python",
   "nbconvert_exporter": "python",
   "pygments_lexer": "ipython3",
   "version": "3.12.2"
  }
 },
 "nbformat": 4,
 "nbformat_minor": 5
}
