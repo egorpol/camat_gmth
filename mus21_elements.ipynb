{
 "cells": [
  {
   "cell_type": "code",
   "execution_count": 1,
   "id": "b6ae79f9-d2a2-4491-a6f0-6f887ba4e0f3",
   "metadata": {},
   "outputs": [
    {
     "name": "stdout",
     "output_type": "stream",
     "text": [
      "TextBox: <music21.text.TextBox 'Untitled s...'>\n",
      "TextBox: <music21.text.TextBox 'Subtitle'>\n",
      "TextBox: <music21.text.TextBox 'Composer /...'>\n",
      "Metadata: <music21.metadata.Metadata object at 0x1af49127e10>\n",
      "PartStaff: <music21.stream.PartStaff P1-Staff1>\n",
      "Piano: P1: Piano: Piano\n",
      "Measure: <music21.stream.Measure 1 offset=0.0>\n",
      "SystemLayout: <music21.layout.SystemLayout>\n",
      "TrebleClef: <music21.clef.TrebleClef>\n",
      "KeySignature: <music21.key.KeySignature of no sharps or flats>\n",
      "TimeSignature: <music21.meter.TimeSignature 4/4>\n",
      "Chord: <music21.chord.Chord A-4 C5 E-5 A-5>\n",
      "  Chord: A-4-C5-E-5-A-5, Duration: 1.0, Ties: start\n",
      "Chord: <music21.chord.Chord G4 B-4 E-5 G5>\n",
      "  Chord: G4-B-4-E-5-G5, Duration: 1.0, Ties: stop\n",
      "Rest: <music21.note.Rest half>\n",
      "  Rest, Duration: 2.0\n",
      "Barline: <music21.bar.Barline type=final>\n",
      "PartStaff: <music21.stream.PartStaff P1-Staff2>\n",
      "Piano: P1: Piano: Piano\n",
      "Measure: <music21.stream.Measure 1 offset=0.0>\n",
      "SystemLayout: <music21.layout.SystemLayout>\n",
      "StaffLayout: <music21.layout.StaffLayout distance 65, staffNumber 2, staffSize None, staffLines None>\n",
      "BassClef: <music21.clef.BassClef>\n",
      "KeySignature: <music21.key.KeySignature of no sharps or flats>\n",
      "TimeSignature: <music21.meter.TimeSignature 4/4>\n",
      "Chord: <music21.chord.Chord C3 A-3 E-4>\n",
      "  Chord: C3-A-3-E-4, Duration: 1.0, Ties: start\n",
      "Chord: <music21.chord.Chord E-3 G3 E-4>\n",
      "  Chord: E-3-G3-E-4, Duration: 1.0, Ties: stop\n",
      "Rest: <music21.note.Rest half>\n",
      "  Rest, Duration: 2.0\n",
      "Barline: <music21.bar.Barline type=final>\n",
      "ScoreLayout: <music21.layout.ScoreLayout>\n",
      "StaffGroup: <music21.layout.StaffGroup <music21.stream.PartStaff P1-Staff1><music21.stream.PartStaff P1-Staff2>>\n"
     ]
    }
   ],
   "source": [
    "from music21 import converter\n",
    "\n",
    "def print_all_elements(file_path):\n",
    "    # Load the MusicXML file into a music21 score object\n",
    "    score = converter.parse(file_path)\n",
    "    \n",
    "    # Iterate over all elements recursively using the recurse() method\n",
    "    for element in score.recurse():\n",
    "        # Print the class name of each element and its representative string\n",
    "        print(f\"{element.__class__.__name__}: {element}\")\n",
    "        \n",
    "        # For notes and chords, print additional details\n",
    "        if 'Note' in element.classes:\n",
    "            # Check for a tie and print its type if present\n",
    "            tie_info = element.tie\n",
    "            if tie_info:\n",
    "                print(f\"  Note: {element.pitch}, Duration: {element.duration.quarterLength}, Tie: {tie_info.type}\")\n",
    "            else:\n",
    "                print(f\"  Note: {element.pitch}, Duration: {element.duration.quarterLength}\")\n",
    "        elif 'Chord' in element.classes:\n",
    "            # List pitches in the chord and check for ties\n",
    "            pitches = '-'.join(str(p) for p in element.pitches)\n",
    "            tie_types = ', '.join([n.tie.type for n in element if n.tie])\n",
    "            if tie_types:\n",
    "                print(f\"  Chord: {pitches}, Duration: {element.duration.quarterLength}, Ties: {tie_types}\")\n",
    "            else:\n",
    "                print(f\"  Chord: {pitches}, Duration: {element.duration.quarterLength}\")\n",
    "        elif 'Rest' in element.classes:\n",
    "            print(f\"  Rest, Duration: {element.duration.quarterLength}\")\n",
    "\n",
    "# Call the function with the path to your MusicXML file\n",
    "\n",
    "file_path = 'liszt.mxl'\n",
    "print_all_elements(file_path)"
   ]
  },
  {
   "cell_type": "code",
   "execution_count": 2,
   "id": "4afc9b1c-545c-42bf-b31f-1d28153c2f5c",
   "metadata": {},
   "outputs": [
    {
     "name": "stdout",
     "output_type": "stream",
     "text": [
      "{0.0} <music21.text.TextBox 'Untitled s...'>\n",
      "{0.0} <music21.text.TextBox 'Subtitle'>\n",
      "{0.0} <music21.text.TextBox 'Composer /...'>\n",
      "{0.0} <music21.metadata.Metadata object at 0x1af7928e050>\n",
      "{0.0} <music21.stream.PartStaff P1-Staff1>\n",
      "    {0.0} <music21.instrument.Piano 'P1: Piano: Piano'>\n",
      "    {0.0} <music21.stream.Measure 1 offset=0.0>\n",
      "        {0.0} <music21.layout.SystemLayout>\n",
      "        {0.0} <music21.clef.TrebleClef>\n",
      "        {0.0} <music21.key.KeySignature of no sharps or flats>\n",
      "        {0.0} <music21.meter.TimeSignature 4/4>\n",
      "        {0.0} <music21.chord.Chord A-4 C5 E-5 A-5>\n",
      "        {1.0} <music21.chord.Chord G4 B-4 E-5 G5>\n",
      "        {2.0} <music21.note.Rest half>\n",
      "        {4.0} <music21.bar.Barline type=final>\n",
      "{0.0} <music21.stream.PartStaff P1-Staff2>\n",
      "    {0.0} <music21.instrument.Piano 'P1: Piano: Piano'>\n",
      "    {0.0} <music21.stream.Measure 1 offset=0.0>\n",
      "        {0.0} <music21.layout.SystemLayout>\n",
      "        {0.0} <music21.layout.StaffLayout distance 65, staffNumber 2, staffSize None, staffLines None>\n",
      "        {0.0} <music21.clef.BassClef>\n",
      "        {0.0} <music21.key.KeySignature of no sharps or flats>\n",
      "        {0.0} <music21.meter.TimeSignature 4/4>\n",
      "        {0.0} <music21.chord.Chord C3 A-3 E-4>\n",
      "        {1.0} <music21.chord.Chord E-3 G3 E-4>\n",
      "        {2.0} <music21.note.Rest half>\n",
      "        {4.0} <music21.bar.Barline type=final>\n",
      "{0.0} <music21.layout.ScoreLayout>\n",
      "{0.0} <music21.layout.StaffGroup <music21.stream.PartStaff P1-Staff1><music21.stream.PartStaff P1-Staff2>>\n"
     ]
    }
   ],
   "source": [
    "from music21 import converter\n",
    "\n",
    "# Load the MusicXML file into a music21 score object\n",
    "\n",
    "file_path = 'liszt.mxl'\n",
    "score = converter.parse(file_path)\n",
    "\n",
    "# Display a text representation of the score\n",
    "score.show('text')\n"
   ]
  },
  {
   "cell_type": "code",
   "execution_count": null,
   "id": "60e148bf-4d87-4469-9c63-183ddde5729a",
   "metadata": {},
   "outputs": [],
   "source": []
  }
 ],
 "metadata": {
  "kernelspec": {
   "display_name": "Python 3 (ipykernel)",
   "language": "python",
   "name": "python3"
  },
  "language_info": {
   "codemirror_mode": {
    "name": "ipython",
    "version": 3
   },
   "file_extension": ".py",
   "mimetype": "text/x-python",
   "name": "python",
   "nbconvert_exporter": "python",
   "pygments_lexer": "ipython3",
   "version": "3.11.7"
  }
 },
 "nbformat": 4,
 "nbformat_minor": 5
}
